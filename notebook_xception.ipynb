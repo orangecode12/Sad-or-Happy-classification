{
 "cells": [
  {
   "cell_type": "code",
   "execution_count": 1,
   "metadata": {
    "execution": {
     "iopub.execute_input": "2023-12-20T08:08:17.877118Z",
     "iopub.status.busy": "2023-12-20T08:08:17.876744Z",
     "iopub.status.idle": "2023-12-20T08:08:25.797182Z",
     "shell.execute_reply": "2023-12-20T08:08:25.796402Z",
     "shell.execute_reply.started": "2023-12-20T08:08:17.877092Z"
    },
    "tags": []
   },
   "outputs": [
    {
     "name": "stderr",
     "output_type": "stream",
     "text": [
      "2023-12-20 08:08:19.459274: I tensorflow/core/util/util.cc:169] oneDNN custom operations are on. You may see slightly different numerical results due to floating-point round-off errors from different computation orders. To turn them off, set the environment variable `TF_ENABLE_ONEDNN_OPTS=0`.\n"
     ]
    }
   ],
   "source": [
    "import numpy as np\n",
    "import matplotlib.pyplot as plt\n",
    "import tensorflow as tf\n",
    "from tensorflow import keras\n",
    "from tensorflow.keras.preprocessing.image import load_img\n",
    "from tensorflow.keras.applications.xception import Xception\n",
    "from tensorflow.keras.applications.xception import preprocess_input\n",
    "from tensorflow.keras.applications.xception import decode_predictions\n",
    "from tensorflow.keras.preprocessing.image import ImageDataGenerator\n",
    "\n",
    "\n",
    "%matplotlib inline"
   ]
  },
  {
   "cell_type": "markdown",
   "metadata": {},
   "source": [
    "Training xception model"
   ]
  },
  {
   "cell_type": "code",
   "execution_count": 2,
   "metadata": {
    "execution": {
     "iopub.execute_input": "2023-12-20T08:08:33.461033Z",
     "iopub.status.busy": "2023-12-20T08:08:33.460436Z",
     "iopub.status.idle": "2023-12-20T08:08:33.629514Z",
     "shell.execute_reply": "2023-12-20T08:08:33.628812Z",
     "shell.execute_reply.started": "2023-12-20T08:08:33.461002Z"
    },
    "tags": []
   },
   "outputs": [
    {
     "name": "stdout",
     "output_type": "stream",
     "text": [
      "Found 5771 images belonging to 2 classes.\n"
     ]
    }
   ],
   "source": [
    "train_gen = ImageDataGenerator(preprocessing_function=preprocess_input)\n",
    "\n",
    "train_ds = train_gen.flow_from_directory(\n",
    "    './Data_for_capstone1/data/train',\n",
    "    target_size=(150, 150),\n",
    "    batch_size=32\n",
    ")"
   ]
  },
  {
   "cell_type": "code",
   "execution_count": 3,
   "metadata": {
    "execution": {
     "iopub.execute_input": "2023-12-20T08:08:35.512354Z",
     "iopub.status.busy": "2023-12-20T08:08:35.511949Z",
     "iopub.status.idle": "2023-12-20T08:08:35.630055Z",
     "shell.execute_reply": "2023-12-20T08:08:35.629376Z",
     "shell.execute_reply.started": "2023-12-20T08:08:35.512325Z"
    },
    "tags": []
   },
   "outputs": [],
   "source": [
    "X, y = next(train_ds)"
   ]
  },
  {
   "cell_type": "code",
   "execution_count": 4,
   "metadata": {
    "execution": {
     "iopub.execute_input": "2023-12-20T08:08:36.568710Z",
     "iopub.status.busy": "2023-12-20T08:08:36.568267Z",
     "iopub.status.idle": "2023-12-20T08:08:36.630186Z",
     "shell.execute_reply": "2023-12-20T08:08:36.629501Z",
     "shell.execute_reply.started": "2023-12-20T08:08:36.568683Z"
    },
    "tags": []
   },
   "outputs": [
    {
     "name": "stdout",
     "output_type": "stream",
     "text": [
      "Found 1905 images belonging to 2 classes.\n"
     ]
    }
   ],
   "source": [
    "val_gen = ImageDataGenerator(preprocessing_function=preprocess_input)\n",
    "\n",
    "val_ds = val_gen.flow_from_directory(\n",
    "    './Data_for_capstone1/data/test',\n",
    "    target_size=(150, 150),\n",
    "    batch_size=32,\n",
    "    shuffle=False\n",
    ")"
   ]
  },
  {
   "cell_type": "code",
   "execution_count": 6,
   "metadata": {
    "execution": {
     "iopub.execute_input": "2023-12-20T08:08:57.125921Z",
     "iopub.status.busy": "2023-12-20T08:08:57.125528Z",
     "iopub.status.idle": "2023-12-20T08:08:58.544648Z",
     "shell.execute_reply": "2023-12-20T08:08:58.543945Z",
     "shell.execute_reply.started": "2023-12-20T08:08:57.125892Z"
    },
    "tags": []
   },
   "outputs": [],
   "source": [
    "base_model = Xception(\n",
    "    weights='imagenet',\n",
    "    include_top=False,\n",
    "    input_shape=(150, 150, 3)\n",
    ")\n",
    "\n",
    "base_model.trainable = False\n",
    "\n",
    "\n",
    "\n",
    "inputs = keras.Input(shape=(150, 150, 3))\n",
    "\n",
    "base = base_model(inputs, training=False)\n",
    "\n",
    "vectors = keras.layers.GlobalAveragePooling2D()(base)\n",
    "\n",
    "outputs = keras.layers.Dense(2)(vectors)\n",
    "\n",
    "model = keras.Model(inputs, outputs)"
   ]
  },
  {
   "cell_type": "code",
   "execution_count": 7,
   "metadata": {
    "execution": {
     "iopub.execute_input": "2023-12-20T08:09:04.744015Z",
     "iopub.status.busy": "2023-12-20T08:09:04.743625Z",
     "iopub.status.idle": "2023-12-20T08:11:42.788611Z",
     "shell.execute_reply": "2023-12-20T08:11:42.787877Z",
     "shell.execute_reply.started": "2023-12-20T08:09:04.743990Z"
    },
    "tags": []
   },
   "outputs": [
    {
     "name": "stdout",
     "output_type": "stream",
     "text": [
      "Epoch 1/10\n"
     ]
    },
    {
     "name": "stderr",
     "output_type": "stream",
     "text": [
      "2023-12-20 08:09:07.942246: I tensorflow/stream_executor/cuda/cuda_dnn.cc:384] Loaded cuDNN version 8100\n",
      "2023-12-20 08:09:08.610372: I tensorflow/core/platform/default/subprocess.cc:304] Start cannot spawn child process: No such file or directory\n",
      "2023-12-20 08:09:08.610889: I tensorflow/core/platform/default/subprocess.cc:304] Start cannot spawn child process: No such file or directory\n",
      "2023-12-20 08:09:08.610923: W tensorflow/stream_executor/gpu/asm_compiler.cc:80] Couldn't get ptxas version string: INTERNAL: Couldn't invoke ptxas --version\n",
      "2023-12-20 08:09:08.611564: I tensorflow/core/platform/default/subprocess.cc:304] Start cannot spawn child process: No such file or directory\n",
      "2023-12-20 08:09:08.611641: W tensorflow/stream_executor/gpu/redzone_allocator.cc:314] INTERNAL: Failed to launch ptxas\n",
      "Relying on driver to perform ptx compilation. \n",
      "Modify $PATH to customize ptxas location.\n",
      "This message will be only logged once.\n"
     ]
    },
    {
     "name": "stdout",
     "output_type": "stream",
     "text": [
      "181/181 [==============================] - 25s 113ms/step - loss: 0.6065 - accuracy: 0.7900 - val_loss: 0.5075 - val_accuracy: 0.8079\n",
      "Epoch 2/10\n",
      "181/181 [==============================] - 15s 81ms/step - loss: 0.4385 - accuracy: 0.8395 - val_loss: 0.5156 - val_accuracy: 0.8168\n",
      "Epoch 3/10\n",
      "181/181 [==============================] - 15s 80ms/step - loss: 0.3807 - accuracy: 0.8567 - val_loss: 0.6848 - val_accuracy: 0.7869\n",
      "Epoch 4/10\n",
      "181/181 [==============================] - 15s 82ms/step - loss: 0.3253 - accuracy: 0.8674 - val_loss: 0.5353 - val_accuracy: 0.8110\n",
      "Epoch 5/10\n",
      "181/181 [==============================] - 15s 81ms/step - loss: 0.3212 - accuracy: 0.8749 - val_loss: 0.7777 - val_accuracy: 0.7874\n",
      "Epoch 6/10\n",
      "181/181 [==============================] - 15s 81ms/step - loss: 0.3151 - accuracy: 0.8825 - val_loss: 0.5915 - val_accuracy: 0.8231\n",
      "Epoch 7/10\n",
      "181/181 [==============================] - 15s 82ms/step - loss: 0.2761 - accuracy: 0.8915 - val_loss: 0.6254 - val_accuracy: 0.8215\n",
      "Epoch 8/10\n",
      "181/181 [==============================] - 15s 82ms/step - loss: 0.2649 - accuracy: 0.8979 - val_loss: 1.2243 - val_accuracy: 0.7139\n",
      "Epoch 9/10\n",
      "181/181 [==============================] - 15s 81ms/step - loss: 0.2770 - accuracy: 0.8934 - val_loss: 0.6378 - val_accuracy: 0.8241\n",
      "Epoch 10/10\n",
      "181/181 [==============================] - 15s 81ms/step - loss: 0.2659 - accuracy: 0.8997 - val_loss: 0.7343 - val_accuracy: 0.8016\n"
     ]
    }
   ],
   "source": [
    "learning_rate = 0.01\n",
    "optimizer = keras.optimizers.Adam(learning_rate=learning_rate)\n",
    "\n",
    "loss = keras.losses.CategoricalCrossentropy(from_logits=True)\n",
    "\n",
    "model.compile(optimizer=optimizer, loss=loss, metrics=['accuracy'])\n",
    "history = model.fit(train_ds, epochs=10, validation_data=val_ds)"
   ]
  },
  {
   "cell_type": "code",
   "execution_count": 24,
   "metadata": {
    "execution": {
     "iopub.execute_input": "2023-12-20T08:49:37.498512Z",
     "iopub.status.busy": "2023-12-20T08:49:37.498196Z",
     "iopub.status.idle": "2023-12-20T08:49:37.504968Z",
     "shell.execute_reply": "2023-12-20T08:49:37.504164Z",
     "shell.execute_reply.started": "2023-12-20T08:49:37.498487Z"
    },
    "tags": []
   },
   "outputs": [],
   "source": [
    "def make_model(learning_rate,size_inner,droprate):\n",
    "    base_model = Xception(\n",
    "        weights='imagenet',\n",
    "        include_top=False,\n",
    "        input_shape=(150, 150, 3)\n",
    "    )\n",
    "\n",
    "    base_model.trainable = False\n",
    "\n",
    "    #########################################\n",
    "\n",
    "    inputs = keras.Input(shape=(150, 150, 3))\n",
    "    base = base_model(inputs, training=False)\n",
    "    vectors = keras.layers.GlobalAveragePooling2D()(base)\n",
    "    inner = keras.layers.Dense(size_inner, activation='relu')(vectors)\n",
    "    drop = keras.layers.Dropout(droprate)(inner)\n",
    "    \n",
    "    outputs = keras.layers.Dense(2)(drop)\n",
    "    model = keras.Model(inputs, outputs)\n",
    "    \n",
    "    #########################################\n",
    "\n",
    "    optimizer = keras.optimizers.Adam(learning_rate=learning_rate)\n",
    "    loss = keras.losses.CategoricalCrossentropy(from_logits=True)\n",
    "\n",
    "    model.compile(\n",
    "        optimizer=optimizer,\n",
    "        loss=loss,\n",
    "        metrics=['accuracy']\n",
    "    )\n",
    "    \n",
    "    return model"
   ]
  },
  {
   "cell_type": "code",
   "execution_count": 19,
   "metadata": {
    "execution": {
     "iopub.execute_input": "2023-12-20T08:31:02.679231Z",
     "iopub.status.busy": "2023-12-20T08:31:02.678825Z",
     "iopub.status.idle": "2023-12-20T08:34:26.762377Z",
     "shell.execute_reply": "2023-12-20T08:34:26.760797Z",
     "shell.execute_reply.started": "2023-12-20T08:31:02.679205Z"
    },
    "tags": []
   },
   "outputs": [
    {
     "name": "stdout",
     "output_type": "stream",
     "text": [
      "0.0001\n",
      "Epoch 1/10\n",
      "181/181 [==============================] - 18s 85ms/step - loss: 0.6931 - accuracy: 0.5032 - val_loss: 0.6931 - val_accuracy: 0.5197\n",
      "Epoch 2/10\n",
      "181/181 [==============================] - 15s 81ms/step - loss: 0.6931 - accuracy: 0.5101 - val_loss: 0.6930 - val_accuracy: 0.5197\n",
      "Epoch 3/10\n",
      "181/181 [==============================] - 14s 80ms/step - loss: 0.6931 - accuracy: 0.5101 - val_loss: 0.6930 - val_accuracy: 0.5197\n",
      "Epoch 4/10\n",
      "181/181 [==============================] - 15s 81ms/step - loss: 0.6931 - accuracy: 0.5101 - val_loss: 0.6929 - val_accuracy: 0.5197\n",
      "Epoch 5/10\n",
      "181/181 [==============================] - 15s 80ms/step - loss: 0.6930 - accuracy: 0.5101 - val_loss: 0.6929 - val_accuracy: 0.5197\n",
      "Epoch 6/10\n",
      "181/181 [==============================] - 15s 80ms/step - loss: 0.6930 - accuracy: 0.5101 - val_loss: 0.6928 - val_accuracy: 0.5197\n",
      "Epoch 7/10\n",
      "181/181 [==============================] - 15s 81ms/step - loss: 0.6930 - accuracy: 0.5101 - val_loss: 0.6928 - val_accuracy: 0.5197\n",
      "Epoch 8/10\n",
      "181/181 [==============================] - 15s 81ms/step - loss: 0.6930 - accuracy: 0.5101 - val_loss: 0.6928 - val_accuracy: 0.5197\n",
      "Epoch 9/10\n",
      "181/181 [==============================] - 15s 81ms/step - loss: 0.6930 - accuracy: 0.5101 - val_loss: 0.6927 - val_accuracy: 0.5197\n",
      "Epoch 10/10\n",
      "181/181 [==============================] - 15s 80ms/step - loss: 0.6930 - accuracy: 0.5101 - val_loss: 0.6927 - val_accuracy: 0.5197\n",
      "\n",
      "\n",
      "0.001\n",
      "Epoch 1/10\n",
      "181/181 [==============================] - 18s 85ms/step - loss: 0.6931 - accuracy: 0.5088 - val_loss: 0.6927 - val_accuracy: 0.5197\n",
      "Epoch 2/10\n",
      "181/181 [==============================] - 14s 80ms/step - loss: 0.6930 - accuracy: 0.5101 - val_loss: 0.6926 - val_accuracy: 0.5197\n",
      "Epoch 3/10\n",
      "181/181 [==============================] - 14s 79ms/step - loss: 0.6930 - accuracy: 0.5101 - val_loss: 0.6927 - val_accuracy: 0.5197\n",
      "Epoch 4/10\n",
      " 67/181 [==========>...................] - ETA: 7s - loss: 0.6930 - accuracy: 0.5103"
     ]
    },
    {
     "ename": "KeyboardInterrupt",
     "evalue": "",
     "output_type": "error",
     "traceback": [
      "\u001b[0;31m---------------------------------------------------------------------------\u001b[0m",
      "\u001b[0;31mKeyboardInterrupt\u001b[0m                         Traceback (most recent call last)",
      "Cell \u001b[0;32mIn[19], line 7\u001b[0m\n\u001b[1;32m      4\u001b[0m \u001b[38;5;28mprint\u001b[39m(lr)\n\u001b[1;32m      6\u001b[0m model \u001b[38;5;241m=\u001b[39m make_model(learning_rate\u001b[38;5;241m=\u001b[39mlr,size_inner\u001b[38;5;241m=\u001b[39m\u001b[38;5;241m0\u001b[39m,droprate\u001b[38;5;241m=\u001b[39m\u001b[38;5;241m0\u001b[39m)\n\u001b[0;32m----> 7\u001b[0m history \u001b[38;5;241m=\u001b[39m \u001b[43mmodel\u001b[49m\u001b[38;5;241;43m.\u001b[39;49m\u001b[43mfit\u001b[49m\u001b[43m(\u001b[49m\u001b[43mtrain_ds\u001b[49m\u001b[43m,\u001b[49m\u001b[43m \u001b[49m\u001b[43mepochs\u001b[49m\u001b[38;5;241;43m=\u001b[39;49m\u001b[38;5;241;43m10\u001b[39;49m\u001b[43m,\u001b[49m\u001b[43m \u001b[49m\u001b[43mvalidation_data\u001b[49m\u001b[38;5;241;43m=\u001b[39;49m\u001b[43mval_ds\u001b[49m\u001b[43m)\u001b[49m\n\u001b[1;32m      8\u001b[0m scores[lr] \u001b[38;5;241m=\u001b[39m history\u001b[38;5;241m.\u001b[39mhistory\n\u001b[1;32m     10\u001b[0m \u001b[38;5;28mprint\u001b[39m()\n",
      "File \u001b[0;32m/opt/saturncloud/envs/saturn/lib/python3.9/site-packages/keras/utils/traceback_utils.py:64\u001b[0m, in \u001b[0;36mfilter_traceback.<locals>.error_handler\u001b[0;34m(*args, **kwargs)\u001b[0m\n\u001b[1;32m     62\u001b[0m filtered_tb \u001b[38;5;241m=\u001b[39m \u001b[38;5;28;01mNone\u001b[39;00m\n\u001b[1;32m     63\u001b[0m \u001b[38;5;28;01mtry\u001b[39;00m:\n\u001b[0;32m---> 64\u001b[0m   \u001b[38;5;28;01mreturn\u001b[39;00m \u001b[43mfn\u001b[49m\u001b[43m(\u001b[49m\u001b[38;5;241;43m*\u001b[39;49m\u001b[43margs\u001b[49m\u001b[43m,\u001b[49m\u001b[43m \u001b[49m\u001b[38;5;241;43m*\u001b[39;49m\u001b[38;5;241;43m*\u001b[39;49m\u001b[43mkwargs\u001b[49m\u001b[43m)\u001b[49m\n\u001b[1;32m     65\u001b[0m \u001b[38;5;28;01mexcept\u001b[39;00m \u001b[38;5;167;01mException\u001b[39;00m \u001b[38;5;28;01mas\u001b[39;00m e:  \u001b[38;5;66;03m# pylint: disable=broad-except\u001b[39;00m\n\u001b[1;32m     66\u001b[0m   filtered_tb \u001b[38;5;241m=\u001b[39m _process_traceback_frames(e\u001b[38;5;241m.\u001b[39m__traceback__)\n",
      "File \u001b[0;32m/opt/saturncloud/envs/saturn/lib/python3.9/site-packages/keras/engine/training.py:1409\u001b[0m, in \u001b[0;36mModel.fit\u001b[0;34m(self, x, y, batch_size, epochs, verbose, callbacks, validation_split, validation_data, shuffle, class_weight, sample_weight, initial_epoch, steps_per_epoch, validation_steps, validation_batch_size, validation_freq, max_queue_size, workers, use_multiprocessing)\u001b[0m\n\u001b[1;32m   1402\u001b[0m \u001b[38;5;28;01mwith\u001b[39;00m tf\u001b[38;5;241m.\u001b[39mprofiler\u001b[38;5;241m.\u001b[39mexperimental\u001b[38;5;241m.\u001b[39mTrace(\n\u001b[1;32m   1403\u001b[0m     \u001b[38;5;124m'\u001b[39m\u001b[38;5;124mtrain\u001b[39m\u001b[38;5;124m'\u001b[39m,\n\u001b[1;32m   1404\u001b[0m     epoch_num\u001b[38;5;241m=\u001b[39mepoch,\n\u001b[1;32m   1405\u001b[0m     step_num\u001b[38;5;241m=\u001b[39mstep,\n\u001b[1;32m   1406\u001b[0m     batch_size\u001b[38;5;241m=\u001b[39mbatch_size,\n\u001b[1;32m   1407\u001b[0m     _r\u001b[38;5;241m=\u001b[39m\u001b[38;5;241m1\u001b[39m):\n\u001b[1;32m   1408\u001b[0m   callbacks\u001b[38;5;241m.\u001b[39mon_train_batch_begin(step)\n\u001b[0;32m-> 1409\u001b[0m   tmp_logs \u001b[38;5;241m=\u001b[39m \u001b[38;5;28;43mself\u001b[39;49m\u001b[38;5;241;43m.\u001b[39;49m\u001b[43mtrain_function\u001b[49m\u001b[43m(\u001b[49m\u001b[43miterator\u001b[49m\u001b[43m)\u001b[49m\n\u001b[1;32m   1410\u001b[0m   \u001b[38;5;28;01mif\u001b[39;00m data_handler\u001b[38;5;241m.\u001b[39mshould_sync:\n\u001b[1;32m   1411\u001b[0m     context\u001b[38;5;241m.\u001b[39masync_wait()\n",
      "File \u001b[0;32m/opt/saturncloud/envs/saturn/lib/python3.9/site-packages/tensorflow/python/util/traceback_utils.py:150\u001b[0m, in \u001b[0;36mfilter_traceback.<locals>.error_handler\u001b[0;34m(*args, **kwargs)\u001b[0m\n\u001b[1;32m    148\u001b[0m filtered_tb \u001b[38;5;241m=\u001b[39m \u001b[38;5;28;01mNone\u001b[39;00m\n\u001b[1;32m    149\u001b[0m \u001b[38;5;28;01mtry\u001b[39;00m:\n\u001b[0;32m--> 150\u001b[0m   \u001b[38;5;28;01mreturn\u001b[39;00m \u001b[43mfn\u001b[49m\u001b[43m(\u001b[49m\u001b[38;5;241;43m*\u001b[39;49m\u001b[43margs\u001b[49m\u001b[43m,\u001b[49m\u001b[43m \u001b[49m\u001b[38;5;241;43m*\u001b[39;49m\u001b[38;5;241;43m*\u001b[39;49m\u001b[43mkwargs\u001b[49m\u001b[43m)\u001b[49m\n\u001b[1;32m    151\u001b[0m \u001b[38;5;28;01mexcept\u001b[39;00m \u001b[38;5;167;01mException\u001b[39;00m \u001b[38;5;28;01mas\u001b[39;00m e:\n\u001b[1;32m    152\u001b[0m   filtered_tb \u001b[38;5;241m=\u001b[39m _process_traceback_frames(e\u001b[38;5;241m.\u001b[39m__traceback__)\n",
      "File \u001b[0;32m/opt/saturncloud/envs/saturn/lib/python3.9/site-packages/tensorflow/python/eager/def_function.py:915\u001b[0m, in \u001b[0;36mFunction.__call__\u001b[0;34m(self, *args, **kwds)\u001b[0m\n\u001b[1;32m    912\u001b[0m compiler \u001b[38;5;241m=\u001b[39m \u001b[38;5;124m\"\u001b[39m\u001b[38;5;124mxla\u001b[39m\u001b[38;5;124m\"\u001b[39m \u001b[38;5;28;01mif\u001b[39;00m \u001b[38;5;28mself\u001b[39m\u001b[38;5;241m.\u001b[39m_jit_compile \u001b[38;5;28;01melse\u001b[39;00m \u001b[38;5;124m\"\u001b[39m\u001b[38;5;124mnonXla\u001b[39m\u001b[38;5;124m\"\u001b[39m\n\u001b[1;32m    914\u001b[0m \u001b[38;5;28;01mwith\u001b[39;00m OptionalXlaContext(\u001b[38;5;28mself\u001b[39m\u001b[38;5;241m.\u001b[39m_jit_compile):\n\u001b[0;32m--> 915\u001b[0m   result \u001b[38;5;241m=\u001b[39m \u001b[38;5;28;43mself\u001b[39;49m\u001b[38;5;241;43m.\u001b[39;49m\u001b[43m_call\u001b[49m\u001b[43m(\u001b[49m\u001b[38;5;241;43m*\u001b[39;49m\u001b[43margs\u001b[49m\u001b[43m,\u001b[49m\u001b[43m \u001b[49m\u001b[38;5;241;43m*\u001b[39;49m\u001b[38;5;241;43m*\u001b[39;49m\u001b[43mkwds\u001b[49m\u001b[43m)\u001b[49m\n\u001b[1;32m    917\u001b[0m new_tracing_count \u001b[38;5;241m=\u001b[39m \u001b[38;5;28mself\u001b[39m\u001b[38;5;241m.\u001b[39mexperimental_get_tracing_count()\n\u001b[1;32m    918\u001b[0m without_tracing \u001b[38;5;241m=\u001b[39m (tracing_count \u001b[38;5;241m==\u001b[39m new_tracing_count)\n",
      "File \u001b[0;32m/opt/saturncloud/envs/saturn/lib/python3.9/site-packages/tensorflow/python/eager/def_function.py:947\u001b[0m, in \u001b[0;36mFunction._call\u001b[0;34m(self, *args, **kwds)\u001b[0m\n\u001b[1;32m    944\u001b[0m   \u001b[38;5;28mself\u001b[39m\u001b[38;5;241m.\u001b[39m_lock\u001b[38;5;241m.\u001b[39mrelease()\n\u001b[1;32m    945\u001b[0m   \u001b[38;5;66;03m# In this case we have created variables on the first call, so we run the\u001b[39;00m\n\u001b[1;32m    946\u001b[0m   \u001b[38;5;66;03m# defunned version which is guaranteed to never create variables.\u001b[39;00m\n\u001b[0;32m--> 947\u001b[0m   \u001b[38;5;28;01mreturn\u001b[39;00m \u001b[38;5;28;43mself\u001b[39;49m\u001b[38;5;241;43m.\u001b[39;49m\u001b[43m_stateless_fn\u001b[49m\u001b[43m(\u001b[49m\u001b[38;5;241;43m*\u001b[39;49m\u001b[43margs\u001b[49m\u001b[43m,\u001b[49m\u001b[43m \u001b[49m\u001b[38;5;241;43m*\u001b[39;49m\u001b[38;5;241;43m*\u001b[39;49m\u001b[43mkwds\u001b[49m\u001b[43m)\u001b[49m  \u001b[38;5;66;03m# pylint: disable=not-callable\u001b[39;00m\n\u001b[1;32m    948\u001b[0m \u001b[38;5;28;01melif\u001b[39;00m \u001b[38;5;28mself\u001b[39m\u001b[38;5;241m.\u001b[39m_stateful_fn \u001b[38;5;129;01mis\u001b[39;00m \u001b[38;5;129;01mnot\u001b[39;00m \u001b[38;5;28;01mNone\u001b[39;00m:\n\u001b[1;32m    949\u001b[0m   \u001b[38;5;66;03m# Release the lock early so that multiple threads can perform the call\u001b[39;00m\n\u001b[1;32m    950\u001b[0m   \u001b[38;5;66;03m# in parallel.\u001b[39;00m\n\u001b[1;32m    951\u001b[0m   \u001b[38;5;28mself\u001b[39m\u001b[38;5;241m.\u001b[39m_lock\u001b[38;5;241m.\u001b[39mrelease()\n",
      "File \u001b[0;32m/opt/saturncloud/envs/saturn/lib/python3.9/site-packages/tensorflow/python/eager/function.py:2453\u001b[0m, in \u001b[0;36mFunction.__call__\u001b[0;34m(self, *args, **kwargs)\u001b[0m\n\u001b[1;32m   2450\u001b[0m \u001b[38;5;28;01mwith\u001b[39;00m \u001b[38;5;28mself\u001b[39m\u001b[38;5;241m.\u001b[39m_lock:\n\u001b[1;32m   2451\u001b[0m   (graph_function,\n\u001b[1;32m   2452\u001b[0m    filtered_flat_args) \u001b[38;5;241m=\u001b[39m \u001b[38;5;28mself\u001b[39m\u001b[38;5;241m.\u001b[39m_maybe_define_function(args, kwargs)\n\u001b[0;32m-> 2453\u001b[0m \u001b[38;5;28;01mreturn\u001b[39;00m \u001b[43mgraph_function\u001b[49m\u001b[38;5;241;43m.\u001b[39;49m\u001b[43m_call_flat\u001b[49m\u001b[43m(\u001b[49m\n\u001b[1;32m   2454\u001b[0m \u001b[43m    \u001b[49m\u001b[43mfiltered_flat_args\u001b[49m\u001b[43m,\u001b[49m\u001b[43m \u001b[49m\u001b[43mcaptured_inputs\u001b[49m\u001b[38;5;241;43m=\u001b[39;49m\u001b[43mgraph_function\u001b[49m\u001b[38;5;241;43m.\u001b[39;49m\u001b[43mcaptured_inputs\u001b[49m\u001b[43m)\u001b[49m\n",
      "File \u001b[0;32m/opt/saturncloud/envs/saturn/lib/python3.9/site-packages/tensorflow/python/eager/function.py:1860\u001b[0m, in \u001b[0;36mConcreteFunction._call_flat\u001b[0;34m(self, args, captured_inputs, cancellation_manager)\u001b[0m\n\u001b[1;32m   1856\u001b[0m possible_gradient_type \u001b[38;5;241m=\u001b[39m gradients_util\u001b[38;5;241m.\u001b[39mPossibleTapeGradientTypes(args)\n\u001b[1;32m   1857\u001b[0m \u001b[38;5;28;01mif\u001b[39;00m (possible_gradient_type \u001b[38;5;241m==\u001b[39m gradients_util\u001b[38;5;241m.\u001b[39mPOSSIBLE_GRADIENT_TYPES_NONE\n\u001b[1;32m   1858\u001b[0m     \u001b[38;5;129;01mand\u001b[39;00m executing_eagerly):\n\u001b[1;32m   1859\u001b[0m   \u001b[38;5;66;03m# No tape is watching; skip to running the function.\u001b[39;00m\n\u001b[0;32m-> 1860\u001b[0m   \u001b[38;5;28;01mreturn\u001b[39;00m \u001b[38;5;28mself\u001b[39m\u001b[38;5;241m.\u001b[39m_build_call_outputs(\u001b[38;5;28;43mself\u001b[39;49m\u001b[38;5;241;43m.\u001b[39;49m\u001b[43m_inference_function\u001b[49m\u001b[38;5;241;43m.\u001b[39;49m\u001b[43mcall\u001b[49m\u001b[43m(\u001b[49m\n\u001b[1;32m   1861\u001b[0m \u001b[43m      \u001b[49m\u001b[43mctx\u001b[49m\u001b[43m,\u001b[49m\u001b[43m \u001b[49m\u001b[43margs\u001b[49m\u001b[43m,\u001b[49m\u001b[43m \u001b[49m\u001b[43mcancellation_manager\u001b[49m\u001b[38;5;241;43m=\u001b[39;49m\u001b[43mcancellation_manager\u001b[49m\u001b[43m)\u001b[49m)\n\u001b[1;32m   1862\u001b[0m forward_backward \u001b[38;5;241m=\u001b[39m \u001b[38;5;28mself\u001b[39m\u001b[38;5;241m.\u001b[39m_select_forward_and_backward_functions(\n\u001b[1;32m   1863\u001b[0m     args,\n\u001b[1;32m   1864\u001b[0m     possible_gradient_type,\n\u001b[1;32m   1865\u001b[0m     executing_eagerly)\n\u001b[1;32m   1866\u001b[0m forward_function, args_with_tangents \u001b[38;5;241m=\u001b[39m forward_backward\u001b[38;5;241m.\u001b[39mforward()\n",
      "File \u001b[0;32m/opt/saturncloud/envs/saturn/lib/python3.9/site-packages/tensorflow/python/eager/function.py:497\u001b[0m, in \u001b[0;36m_EagerDefinedFunction.call\u001b[0;34m(self, ctx, args, cancellation_manager)\u001b[0m\n\u001b[1;32m    495\u001b[0m \u001b[38;5;28;01mwith\u001b[39;00m _InterpolateFunctionError(\u001b[38;5;28mself\u001b[39m):\n\u001b[1;32m    496\u001b[0m   \u001b[38;5;28;01mif\u001b[39;00m cancellation_manager \u001b[38;5;129;01mis\u001b[39;00m \u001b[38;5;28;01mNone\u001b[39;00m:\n\u001b[0;32m--> 497\u001b[0m     outputs \u001b[38;5;241m=\u001b[39m \u001b[43mexecute\u001b[49m\u001b[38;5;241;43m.\u001b[39;49m\u001b[43mexecute\u001b[49m\u001b[43m(\u001b[49m\n\u001b[1;32m    498\u001b[0m \u001b[43m        \u001b[49m\u001b[38;5;28;43mstr\u001b[39;49m\u001b[43m(\u001b[49m\u001b[38;5;28;43mself\u001b[39;49m\u001b[38;5;241;43m.\u001b[39;49m\u001b[43msignature\u001b[49m\u001b[38;5;241;43m.\u001b[39;49m\u001b[43mname\u001b[49m\u001b[43m)\u001b[49m\u001b[43m,\u001b[49m\n\u001b[1;32m    499\u001b[0m \u001b[43m        \u001b[49m\u001b[43mnum_outputs\u001b[49m\u001b[38;5;241;43m=\u001b[39;49m\u001b[38;5;28;43mself\u001b[39;49m\u001b[38;5;241;43m.\u001b[39;49m\u001b[43m_num_outputs\u001b[49m\u001b[43m,\u001b[49m\n\u001b[1;32m    500\u001b[0m \u001b[43m        \u001b[49m\u001b[43minputs\u001b[49m\u001b[38;5;241;43m=\u001b[39;49m\u001b[43margs\u001b[49m\u001b[43m,\u001b[49m\n\u001b[1;32m    501\u001b[0m \u001b[43m        \u001b[49m\u001b[43mattrs\u001b[49m\u001b[38;5;241;43m=\u001b[39;49m\u001b[43mattrs\u001b[49m\u001b[43m,\u001b[49m\n\u001b[1;32m    502\u001b[0m \u001b[43m        \u001b[49m\u001b[43mctx\u001b[49m\u001b[38;5;241;43m=\u001b[39;49m\u001b[43mctx\u001b[49m\u001b[43m)\u001b[49m\n\u001b[1;32m    503\u001b[0m   \u001b[38;5;28;01melse\u001b[39;00m:\n\u001b[1;32m    504\u001b[0m     outputs \u001b[38;5;241m=\u001b[39m execute\u001b[38;5;241m.\u001b[39mexecute_with_cancellation(\n\u001b[1;32m    505\u001b[0m         \u001b[38;5;28mstr\u001b[39m(\u001b[38;5;28mself\u001b[39m\u001b[38;5;241m.\u001b[39msignature\u001b[38;5;241m.\u001b[39mname),\n\u001b[1;32m    506\u001b[0m         num_outputs\u001b[38;5;241m=\u001b[39m\u001b[38;5;28mself\u001b[39m\u001b[38;5;241m.\u001b[39m_num_outputs,\n\u001b[0;32m   (...)\u001b[0m\n\u001b[1;32m    509\u001b[0m         ctx\u001b[38;5;241m=\u001b[39mctx,\n\u001b[1;32m    510\u001b[0m         cancellation_manager\u001b[38;5;241m=\u001b[39mcancellation_manager)\n",
      "File \u001b[0;32m/opt/saturncloud/envs/saturn/lib/python3.9/site-packages/tensorflow/python/eager/execute.py:54\u001b[0m, in \u001b[0;36mquick_execute\u001b[0;34m(op_name, num_outputs, inputs, attrs, ctx, name)\u001b[0m\n\u001b[1;32m     52\u001b[0m \u001b[38;5;28;01mtry\u001b[39;00m:\n\u001b[1;32m     53\u001b[0m   ctx\u001b[38;5;241m.\u001b[39mensure_initialized()\n\u001b[0;32m---> 54\u001b[0m   tensors \u001b[38;5;241m=\u001b[39m \u001b[43mpywrap_tfe\u001b[49m\u001b[38;5;241;43m.\u001b[39;49m\u001b[43mTFE_Py_Execute\u001b[49m\u001b[43m(\u001b[49m\u001b[43mctx\u001b[49m\u001b[38;5;241;43m.\u001b[39;49m\u001b[43m_handle\u001b[49m\u001b[43m,\u001b[49m\u001b[43m \u001b[49m\u001b[43mdevice_name\u001b[49m\u001b[43m,\u001b[49m\u001b[43m \u001b[49m\u001b[43mop_name\u001b[49m\u001b[43m,\u001b[49m\n\u001b[1;32m     55\u001b[0m \u001b[43m                                      \u001b[49m\u001b[43minputs\u001b[49m\u001b[43m,\u001b[49m\u001b[43m \u001b[49m\u001b[43mattrs\u001b[49m\u001b[43m,\u001b[49m\u001b[43m \u001b[49m\u001b[43mnum_outputs\u001b[49m\u001b[43m)\u001b[49m\n\u001b[1;32m     56\u001b[0m \u001b[38;5;28;01mexcept\u001b[39;00m core\u001b[38;5;241m.\u001b[39m_NotOkStatusException \u001b[38;5;28;01mas\u001b[39;00m e:\n\u001b[1;32m     57\u001b[0m   \u001b[38;5;28;01mif\u001b[39;00m name \u001b[38;5;129;01mis\u001b[39;00m \u001b[38;5;129;01mnot\u001b[39;00m \u001b[38;5;28;01mNone\u001b[39;00m:\n",
      "\u001b[0;31mKeyboardInterrupt\u001b[0m: "
     ]
    }
   ],
   "source": [
    "scores = {}\n",
    "\n",
    "for lr in [0.0001, 0.001, 0.01, 0.1]:\n",
    "    print(lr)\n",
    "\n",
    "    model = make_model(learning_rate=lr,size_inner=0,droprate=0)\n",
    "    history = model.fit(train_ds, epochs=10, validation_data=val_ds)\n",
    "    scores[lr] = history.history\n",
    "\n",
    "    print()\n",
    "    print()"
   ]
  },
  {
   "cell_type": "code",
   "execution_count": 16,
   "metadata": {
    "execution": {
     "iopub.execute_input": "2023-12-20T08:29:47.096100Z",
     "iopub.status.busy": "2023-12-20T08:29:47.095681Z",
     "iopub.status.idle": "2023-12-20T08:29:47.261150Z",
     "shell.execute_reply": "2023-12-20T08:29:47.260406Z",
     "shell.execute_reply.started": "2023-12-20T08:29:47.096073Z"
    },
    "tags": []
   },
   "outputs": [
    {
     "data": {
      "text/plain": [
       "<matplotlib.legend.Legend at 0x7f35b5662820>"
      ]
     },
     "execution_count": 16,
     "metadata": {},
     "output_type": "execute_result"
    },
    {
     "data": {
      "image/png": "[encoded data removed]",
      "text/plain": [
       "<Figure size 640x480 with 1 Axes>"
      ]
     },
     "metadata": {},
     "output_type": "display_data"
    }
   ],
   "source": [
    "for lr, hist in scores.items():\n",
    "    #plt.plot(hist['accuracy'], label=('train=%s' % lr))\n",
    "    plt.plot(hist['val_accuracy'], label=('val=%s' % lr))\n",
    "\n",
    "plt.xticks(np.arange(10))\n",
    "plt.legend()"
   ]
  },
  {
   "cell_type": "code",
   "execution_count": null,
   "metadata": {
    "execution": {
     "iopub.status.busy": "2023-12-20T08:34:26.763347Z",
     "iopub.status.idle": "2023-12-20T08:34:26.763645Z",
     "shell.execute_reply": "2023-12-20T08:34:26.763522Z",
     "shell.execute_reply.started": "2023-12-20T08:34:26.763509Z"
    },
    "tags": []
   },
   "outputs": [],
   "source": [
    "learning_rate = 0.001\n",
    "\n",
    "scores = {}\n",
    "\n",
    "for size in [10, 100, 1000]:\n",
    "    print(size)\n",
    "\n",
    "    model = make_model(learning_rate=learning_rate, size_inner=size,drop)\n",
    "    history = model.fit(train_ds, epochs=10, validation_data=val_ds)\n",
    "    scores[size] = history.history\n",
    "\n",
    "    print()\n",
    "    print()"
   ]
  },
  {
   "cell_type": "code",
   "execution_count": 22,
   "metadata": {
    "execution": {
     "iopub.execute_input": "2023-12-20T08:37:02.060222Z",
     "iopub.status.busy": "2023-12-20T08:37:02.059455Z",
     "iopub.status.idle": "2023-12-20T08:44:31.035788Z",
     "shell.execute_reply": "2023-12-20T08:44:31.035072Z",
     "shell.execute_reply.started": "2023-12-20T08:37:02.060191Z"
    },
    "tags": []
   },
   "outputs": [
    {
     "name": "stdout",
     "output_type": "stream",
     "text": [
      "10\n",
      "Epoch 1/10\n",
      "181/181 [==============================] - 18s 84ms/step - loss: 0.4478 - accuracy: 0.7959 - val_loss: 0.4584 - val_accuracy: 0.7801\n",
      "Epoch 2/10\n",
      "181/181 [==============================] - 14s 79ms/step - loss: 0.3630 - accuracy: 0.8392 - val_loss: 0.4111 - val_accuracy: 0.8105\n",
      "Epoch 3/10\n",
      "181/181 [==============================] - 15s 81ms/step - loss: 0.3365 - accuracy: 0.8539 - val_loss: 0.4216 - val_accuracy: 0.8210\n",
      "Epoch 4/10\n",
      "181/181 [==============================] - 14s 79ms/step - loss: 0.3120 - accuracy: 0.8661 - val_loss: 0.3721 - val_accuracy: 0.8399\n",
      "Epoch 5/10\n",
      "181/181 [==============================] - 15s 81ms/step - loss: 0.2844 - accuracy: 0.8775 - val_loss: 0.3782 - val_accuracy: 0.8357\n",
      "Epoch 6/10\n",
      "181/181 [==============================] - 14s 79ms/step - loss: 0.2612 - accuracy: 0.8882 - val_loss: 0.3991 - val_accuracy: 0.8252\n",
      "Epoch 7/10\n",
      "181/181 [==============================] - 15s 80ms/step - loss: 0.2463 - accuracy: 0.8964 - val_loss: 0.4116 - val_accuracy: 0.8325\n",
      "Epoch 8/10\n",
      "181/181 [==============================] - 14s 79ms/step - loss: 0.2281 - accuracy: 0.9045 - val_loss: 0.3826 - val_accuracy: 0.8436\n",
      "Epoch 9/10\n",
      "181/181 [==============================] - 15s 80ms/step - loss: 0.2133 - accuracy: 0.9156 - val_loss: 0.3984 - val_accuracy: 0.8420\n",
      "Epoch 10/10\n",
      "181/181 [==============================] - 14s 78ms/step - loss: 0.2043 - accuracy: 0.9165 - val_loss: 0.4461 - val_accuracy: 0.8247\n",
      "\n",
      "\n",
      "100\n",
      "Epoch 1/10\n",
      "181/181 [==============================] - 18s 84ms/step - loss: 0.4299 - accuracy: 0.8044 - val_loss: 0.4407 - val_accuracy: 0.8031\n",
      "Epoch 2/10\n",
      "181/181 [==============================] - 14s 80ms/step - loss: 0.3425 - accuracy: 0.8498 - val_loss: 0.3997 - val_accuracy: 0.8236\n",
      "Epoch 3/10\n",
      "181/181 [==============================] - 15s 81ms/step - loss: 0.2918 - accuracy: 0.8759 - val_loss: 0.3886 - val_accuracy: 0.8336\n",
      "Epoch 4/10\n",
      "181/181 [==============================] - 15s 80ms/step - loss: 0.2584 - accuracy: 0.8905 - val_loss: 0.3705 - val_accuracy: 0.8415\n",
      "Epoch 5/10\n",
      "181/181 [==============================] - 14s 80ms/step - loss: 0.2189 - accuracy: 0.9083 - val_loss: 0.4299 - val_accuracy: 0.8310\n",
      "Epoch 6/10\n",
      "181/181 [==============================] - 14s 78ms/step - loss: 0.1855 - accuracy: 0.9281 - val_loss: 0.4119 - val_accuracy: 0.8415\n",
      "Epoch 7/10\n",
      "181/181 [==============================] - 14s 79ms/step - loss: 0.1549 - accuracy: 0.9392 - val_loss: 0.4330 - val_accuracy: 0.8336\n",
      "Epoch 8/10\n",
      "181/181 [==============================] - 15s 80ms/step - loss: 0.1354 - accuracy: 0.9475 - val_loss: 0.5720 - val_accuracy: 0.7995\n",
      "Epoch 9/10\n",
      "181/181 [==============================] - 14s 80ms/step - loss: 0.1093 - accuracy: 0.9636 - val_loss: 0.4709 - val_accuracy: 0.8425\n",
      "Epoch 10/10\n",
      "181/181 [==============================] - 14s 79ms/step - loss: 0.0856 - accuracy: 0.9716 - val_loss: 0.5005 - val_accuracy: 0.8436\n",
      "\n",
      "\n",
      "1000\n",
      "Epoch 1/10\n",
      "181/181 [==============================] - 18s 85ms/step - loss: 0.4481 - accuracy: 0.8045 - val_loss: 0.4036 - val_accuracy: 0.8131\n",
      "Epoch 2/10\n",
      "181/181 [==============================] - 14s 80ms/step - loss: 0.3339 - accuracy: 0.8579 - val_loss: 0.3947 - val_accuracy: 0.8168\n",
      "Epoch 3/10\n",
      "181/181 [==============================] - 14s 80ms/step - loss: 0.2961 - accuracy: 0.8733 - val_loss: 0.4404 - val_accuracy: 0.8058\n",
      "Epoch 4/10\n",
      "181/181 [==============================] - 14s 80ms/step - loss: 0.2419 - accuracy: 0.8978 - val_loss: 0.3753 - val_accuracy: 0.8457\n",
      "Epoch 5/10\n",
      "181/181 [==============================] - 15s 80ms/step - loss: 0.2088 - accuracy: 0.9142 - val_loss: 0.4054 - val_accuracy: 0.8388\n",
      "Epoch 6/10\n",
      "181/181 [==============================] - 15s 80ms/step - loss: 0.1597 - accuracy: 0.9361 - val_loss: 0.4606 - val_accuracy: 0.8210\n",
      "Epoch 7/10\n",
      "181/181 [==============================] - 14s 80ms/step - loss: 0.1349 - accuracy: 0.9482 - val_loss: 0.4807 - val_accuracy: 0.8425\n",
      "Epoch 8/10\n",
      "181/181 [==============================] - 15s 80ms/step - loss: 0.1116 - accuracy: 0.9574 - val_loss: 0.4658 - val_accuracy: 0.8436\n",
      "Epoch 9/10\n",
      "181/181 [==============================] - 14s 80ms/step - loss: 0.0692 - accuracy: 0.9764 - val_loss: 0.5386 - val_accuracy: 0.8415\n",
      "Epoch 10/10\n",
      "181/181 [==============================] - 15s 80ms/step - loss: 0.0494 - accuracy: 0.9856 - val_loss: 0.5767 - val_accuracy: 0.8457\n",
      "\n",
      "\n"
     ]
    }
   ],
   "source": [
    "learning_rate = 0.001\n",
    "\n",
    "scores = {}\n",
    "\n",
    "for size in [10, 100, 1000]:\n",
    "    print(size)\n",
    "\n",
    "    model = make_model(learning_rate=learning_rate, size_inner=size,droprate = 0)\n",
    "    history = model.fit(train_ds, epochs=10, validation_data=val_ds)\n",
    "    scores[size] = history.history\n",
    "\n",
    "    print()\n",
    "    print()"
   ]
  },
  {
   "cell_type": "code",
   "execution_count": 23,
   "metadata": {
    "execution": {
     "iopub.execute_input": "2023-12-20T08:48:32.754149Z",
     "iopub.status.busy": "2023-12-20T08:48:32.753736Z",
     "iopub.status.idle": "2023-12-20T08:48:32.884918Z",
     "shell.execute_reply": "2023-12-20T08:48:32.884146Z",
     "shell.execute_reply.started": "2023-12-20T08:48:32.754123Z"
    },
    "tags": []
   },
   "outputs": [
    {
     "data": {
      "text/plain": [
       "<matplotlib.legend.Legend at 0x7f35da401dc0>"
      ]
     },
     "execution_count": 23,
     "metadata": {},
     "output_type": "execute_result"
    },
    {
     "data": {
      "image/png": "[encoded data removed]",
      "text/plain": [
       "<Figure size 640x480 with 1 Axes>"
      ]
     },
     "metadata": {},
     "output_type": "display_data"
    }
   ],
   "source": [
    "for size, hist in scores.items():\n",
    "    plt.plot(hist['val_accuracy'], label=('val=%s' % size))\n",
    "\n",
    "plt.xticks(np.arange(10))\n",
    "plt.yticks([0.78, 0.80, 0.82, 0.825, 0.83])\n",
    "plt.legend()"
   ]
  },
  {
   "cell_type": "code",
   "execution_count": 25,
   "metadata": {
    "execution": {
     "iopub.execute_input": "2023-12-20T08:51:41.668116Z",
     "iopub.status.busy": "2023-12-20T08:51:41.667736Z",
     "iopub.status.idle": "2023-12-20T09:21:07.839648Z",
     "shell.execute_reply": "2023-12-20T09:21:07.838921Z",
     "shell.execute_reply.started": "2023-12-20T08:51:41.668088Z"
    },
    "tags": []
   },
   "outputs": [
    {
     "name": "stdout",
     "output_type": "stream",
     "text": [
      "0.0\n",
      "Epoch 1/30\n",
      "181/181 [==============================] - 19s 87ms/step - loss: 0.4480 - accuracy: 0.8000 - val_loss: 0.4098 - val_accuracy: 0.8199\n",
      "Epoch 2/30\n",
      "181/181 [==============================] - 15s 82ms/step - loss: 0.3409 - accuracy: 0.8461 - val_loss: 0.3970 - val_accuracy: 0.8210\n",
      "Epoch 3/30\n",
      "181/181 [==============================] - 15s 82ms/step - loss: 0.2892 - accuracy: 0.8745 - val_loss: 0.3978 - val_accuracy: 0.8241\n",
      "Epoch 4/30\n",
      "181/181 [==============================] - 15s 82ms/step - loss: 0.2500 - accuracy: 0.8972 - val_loss: 0.3813 - val_accuracy: 0.8373\n",
      "Epoch 5/30\n",
      "181/181 [==============================] - 15s 82ms/step - loss: 0.2180 - accuracy: 0.9130 - val_loss: 0.3962 - val_accuracy: 0.8462\n",
      "Epoch 6/30\n",
      "181/181 [==============================] - 15s 80ms/step - loss: 0.1572 - accuracy: 0.9385 - val_loss: 0.4526 - val_accuracy: 0.8252\n",
      "Epoch 7/30\n",
      "181/181 [==============================] - 15s 80ms/step - loss: 0.1436 - accuracy: 0.9470 - val_loss: 0.4710 - val_accuracy: 0.8367\n",
      "Epoch 8/30\n",
      "181/181 [==============================] - 14s 79ms/step - loss: 0.1144 - accuracy: 0.9567 - val_loss: 0.4980 - val_accuracy: 0.8325\n",
      "Epoch 9/30\n",
      "181/181 [==============================] - 15s 80ms/step - loss: 0.0726 - accuracy: 0.9763 - val_loss: 0.5192 - val_accuracy: 0.8373\n",
      "Epoch 10/30\n",
      "181/181 [==============================] - 14s 80ms/step - loss: 0.0620 - accuracy: 0.9811 - val_loss: 0.5725 - val_accuracy: 0.8388\n",
      "Epoch 11/30\n",
      "181/181 [==============================] - 15s 81ms/step - loss: 0.0527 - accuracy: 0.9839 - val_loss: 0.6155 - val_accuracy: 0.8226\n",
      "Epoch 12/30\n",
      "181/181 [==============================] - 15s 80ms/step - loss: 0.0371 - accuracy: 0.9896 - val_loss: 0.7373 - val_accuracy: 0.8236\n",
      "Epoch 13/30\n",
      "181/181 [==============================] - 14s 79ms/step - loss: 0.0258 - accuracy: 0.9932 - val_loss: 0.6954 - val_accuracy: 0.8357\n",
      "Epoch 14/30\n",
      "181/181 [==============================] - 15s 80ms/step - loss: 0.0129 - accuracy: 0.9981 - val_loss: 0.7818 - val_accuracy: 0.8294\n",
      "Epoch 15/30\n",
      "181/181 [==============================] - 15s 80ms/step - loss: 0.0380 - accuracy: 0.9868 - val_loss: 0.6918 - val_accuracy: 0.8331\n",
      "Epoch 16/30\n",
      "181/181 [==============================] - 14s 79ms/step - loss: 0.0197 - accuracy: 0.9951 - val_loss: 0.7530 - val_accuracy: 0.8357\n",
      "Epoch 17/30\n",
      "181/181 [==============================] - 15s 81ms/step - loss: 0.0083 - accuracy: 0.9986 - val_loss: 0.7428 - val_accuracy: 0.8415\n",
      "Epoch 18/30\n",
      "181/181 [==============================] - 15s 81ms/step - loss: 0.0042 - accuracy: 1.0000 - val_loss: 0.8284 - val_accuracy: 0.8446\n",
      "Epoch 19/30\n",
      "181/181 [==============================] - 15s 81ms/step - loss: 0.0015 - accuracy: 1.0000 - val_loss: 0.8119 - val_accuracy: 0.8430\n",
      "Epoch 20/30\n",
      "181/181 [==============================] - 15s 81ms/step - loss: 0.0011 - accuracy: 1.0000 - val_loss: 0.8199 - val_accuracy: 0.8457\n",
      "Epoch 21/30\n",
      "181/181 [==============================] - 14s 79ms/step - loss: 7.6082e-04 - accuracy: 1.0000 - val_loss: 0.8353 - val_accuracy: 0.8446\n",
      "Epoch 22/30\n",
      "181/181 [==============================] - 14s 80ms/step - loss: 6.3311e-04 - accuracy: 1.0000 - val_loss: 0.8425 - val_accuracy: 0.8451\n",
      "Epoch 23/30\n",
      "181/181 [==============================] - 14s 79ms/step - loss: 5.4486e-04 - accuracy: 1.0000 - val_loss: 0.8472 - val_accuracy: 0.8457\n",
      "Epoch 24/30\n",
      "181/181 [==============================] - 15s 81ms/step - loss: 4.8138e-04 - accuracy: 1.0000 - val_loss: 0.8629 - val_accuracy: 0.8472\n",
      "Epoch 25/30\n",
      "181/181 [==============================] - 14s 79ms/step - loss: 4.2047e-04 - accuracy: 1.0000 - val_loss: 0.8734 - val_accuracy: 0.8457\n",
      "Epoch 26/30\n",
      "181/181 [==============================] - 14s 78ms/step - loss: 3.7599e-04 - accuracy: 1.0000 - val_loss: 0.8737 - val_accuracy: 0.8467\n",
      "Epoch 27/30\n",
      "181/181 [==============================] - 14s 79ms/step - loss: 3.3243e-04 - accuracy: 1.0000 - val_loss: 0.8918 - val_accuracy: 0.8467\n",
      "Epoch 28/30\n",
      "181/181 [==============================] - 15s 81ms/step - loss: 2.9481e-04 - accuracy: 1.0000 - val_loss: 0.9000 - val_accuracy: 0.8478\n",
      "Epoch 29/30\n",
      "181/181 [==============================] - 14s 80ms/step - loss: 2.6751e-04 - accuracy: 1.0000 - val_loss: 0.9060 - val_accuracy: 0.8478\n",
      "Epoch 30/30\n",
      "181/181 [==============================] - 14s 79ms/step - loss: 2.3997e-04 - accuracy: 1.0000 - val_loss: 0.9262 - val_accuracy: 0.8446\n",
      "\n",
      "\n",
      "0.2\n",
      "Epoch 1/30\n",
      "181/181 [==============================] - 18s 85ms/step - loss: 0.4536 - accuracy: 0.8032 - val_loss: 0.4161 - val_accuracy: 0.8168\n",
      "Epoch 2/30\n",
      "181/181 [==============================] - 14s 79ms/step - loss: 0.3474 - accuracy: 0.8473 - val_loss: 0.4281 - val_accuracy: 0.8079\n",
      "Epoch 3/30\n",
      "181/181 [==============================] - 14s 79ms/step - loss: 0.3060 - accuracy: 0.8681 - val_loss: 0.3938 - val_accuracy: 0.8325\n",
      "Epoch 4/30\n",
      "181/181 [==============================] - 15s 80ms/step - loss: 0.2728 - accuracy: 0.8832 - val_loss: 0.4002 - val_accuracy: 0.8226\n",
      "Epoch 5/30\n",
      "181/181 [==============================] - 14s 80ms/step - loss: 0.2434 - accuracy: 0.9014 - val_loss: 0.5018 - val_accuracy: 0.7990\n",
      "Epoch 6/30\n",
      "181/181 [==============================] - 14s 79ms/step - loss: 0.2164 - accuracy: 0.9075 - val_loss: 0.4444 - val_accuracy: 0.8252\n",
      "Epoch 7/30\n",
      "181/181 [==============================] - 14s 80ms/step - loss: 0.1809 - accuracy: 0.9234 - val_loss: 0.5251 - val_accuracy: 0.8168\n",
      "Epoch 8/30\n",
      "181/181 [==============================] - 15s 81ms/step - loss: 0.1561 - accuracy: 0.9390 - val_loss: 0.4869 - val_accuracy: 0.8283\n",
      "Epoch 9/30\n",
      "181/181 [==============================] - 14s 79ms/step - loss: 0.1352 - accuracy: 0.9482 - val_loss: 0.4803 - val_accuracy: 0.8388\n",
      "Epoch 10/30\n",
      "181/181 [==============================] - 15s 81ms/step - loss: 0.1100 - accuracy: 0.9575 - val_loss: 0.5124 - val_accuracy: 0.8278\n",
      "Epoch 11/30\n",
      "181/181 [==============================] - 15s 80ms/step - loss: 0.0945 - accuracy: 0.9626 - val_loss: 0.5439 - val_accuracy: 0.8415\n",
      "Epoch 12/30\n",
      "181/181 [==============================] - 15s 80ms/step - loss: 0.0901 - accuracy: 0.9673 - val_loss: 0.6026 - val_accuracy: 0.8194\n",
      "Epoch 13/30\n",
      "181/181 [==============================] - 14s 80ms/step - loss: 0.0670 - accuracy: 0.9768 - val_loss: 0.5359 - val_accuracy: 0.8478\n",
      "Epoch 14/30\n",
      "181/181 [==============================] - 15s 81ms/step - loss: 0.0663 - accuracy: 0.9763 - val_loss: 0.6354 - val_accuracy: 0.8320\n",
      "Epoch 15/30\n",
      "181/181 [==============================] - 14s 79ms/step - loss: 0.0497 - accuracy: 0.9837 - val_loss: 0.6085 - val_accuracy: 0.8409\n",
      "Epoch 16/30\n",
      "181/181 [==============================] - 15s 80ms/step - loss: 0.0422 - accuracy: 0.9867 - val_loss: 0.7857 - val_accuracy: 0.8231\n",
      "Epoch 17/30\n",
      "181/181 [==============================] - 15s 80ms/step - loss: 0.0406 - accuracy: 0.9858 - val_loss: 0.7696 - val_accuracy: 0.8262\n",
      "Epoch 18/30\n",
      "181/181 [==============================] - 14s 79ms/step - loss: 0.0406 - accuracy: 0.9854 - val_loss: 0.7001 - val_accuracy: 0.8457\n",
      "Epoch 19/30\n",
      "181/181 [==============================] - 14s 80ms/step - loss: 0.0462 - accuracy: 0.9841 - val_loss: 0.9554 - val_accuracy: 0.8142\n",
      "Epoch 20/30\n",
      "181/181 [==============================] - 15s 80ms/step - loss: 0.0484 - accuracy: 0.9823 - val_loss: 0.7014 - val_accuracy: 0.8394\n",
      "Epoch 21/30\n",
      "181/181 [==============================] - 14s 80ms/step - loss: 0.0479 - accuracy: 0.9827 - val_loss: 0.8187 - val_accuracy: 0.8268\n",
      "Epoch 22/30\n",
      "181/181 [==============================] - 15s 80ms/step - loss: 0.0248 - accuracy: 0.9941 - val_loss: 0.8067 - val_accuracy: 0.8457\n",
      "Epoch 23/30\n",
      "181/181 [==============================] - 14s 79ms/step - loss: 0.0267 - accuracy: 0.9919 - val_loss: 0.7921 - val_accuracy: 0.8346\n",
      "Epoch 24/30\n",
      "181/181 [==============================] - 14s 80ms/step - loss: 0.0342 - accuracy: 0.9882 - val_loss: 0.8329 - val_accuracy: 0.8320\n",
      "Epoch 25/30\n",
      "181/181 [==============================] - 15s 80ms/step - loss: 0.0294 - accuracy: 0.9886 - val_loss: 0.8565 - val_accuracy: 0.8184\n",
      "Epoch 26/30\n",
      "181/181 [==============================] - 16s 90ms/step - loss: 0.0227 - accuracy: 0.9922 - val_loss: 0.8653 - val_accuracy: 0.8388\n",
      "Epoch 27/30\n",
      "181/181 [==============================] - 14s 80ms/step - loss: 0.0480 - accuracy: 0.9828 - val_loss: 1.2004 - val_accuracy: 0.8215\n",
      "Epoch 28/30\n",
      "181/181 [==============================] - 15s 80ms/step - loss: 0.0508 - accuracy: 0.9818 - val_loss: 0.8745 - val_accuracy: 0.8299\n",
      "Epoch 29/30\n",
      "181/181 [==============================] - 15s 80ms/step - loss: 0.0282 - accuracy: 0.9917 - val_loss: 0.9126 - val_accuracy: 0.8283\n",
      "Epoch 30/30\n",
      "181/181 [==============================] - 14s 78ms/step - loss: 0.0186 - accuracy: 0.9936 - val_loss: 0.9649 - val_accuracy: 0.8346\n",
      "\n",
      "\n",
      "0.5\n",
      "Epoch 1/30\n",
      "181/181 [==============================] - 18s 84ms/step - loss: 0.4905 - accuracy: 0.7881 - val_loss: 0.4318 - val_accuracy: 0.7948\n",
      "Epoch 2/30\n",
      "181/181 [==============================] - 14s 80ms/step - loss: 0.3910 - accuracy: 0.8269 - val_loss: 0.4117 - val_accuracy: 0.8142\n",
      "Epoch 3/30\n",
      "181/181 [==============================] - 14s 79ms/step - loss: 0.3429 - accuracy: 0.8529 - val_loss: 0.3740 - val_accuracy: 0.8472\n",
      "Epoch 4/30\n",
      "181/181 [==============================] - 14s 80ms/step - loss: 0.3222 - accuracy: 0.8579 - val_loss: 0.3832 - val_accuracy: 0.8310\n",
      "Epoch 5/30\n",
      "181/181 [==============================] - 15s 80ms/step - loss: 0.2966 - accuracy: 0.8744 - val_loss: 0.4384 - val_accuracy: 0.8115\n",
      "Epoch 6/30\n",
      "181/181 [==============================] - 14s 79ms/step - loss: 0.2876 - accuracy: 0.8775 - val_loss: 0.4035 - val_accuracy: 0.8357\n",
      "Epoch 7/30\n",
      "181/181 [==============================] - 14s 80ms/step - loss: 0.2639 - accuracy: 0.8862 - val_loss: 0.3895 - val_accuracy: 0.8331\n",
      "Epoch 8/30\n",
      "181/181 [==============================] - 15s 80ms/step - loss: 0.2596 - accuracy: 0.8868 - val_loss: 0.3891 - val_accuracy: 0.8388\n",
      "Epoch 9/30\n",
      "181/181 [==============================] - 14s 79ms/step - loss: 0.2212 - accuracy: 0.9054 - val_loss: 0.4135 - val_accuracy: 0.8341\n",
      "Epoch 10/30\n",
      "181/181 [==============================] - 15s 82ms/step - loss: 0.2146 - accuracy: 0.9099 - val_loss: 0.3958 - val_accuracy: 0.8619\n",
      "Epoch 11/30\n",
      "181/181 [==============================] - 15s 80ms/step - loss: 0.1944 - accuracy: 0.9212 - val_loss: 0.4380 - val_accuracy: 0.8273\n",
      "Epoch 12/30\n",
      "181/181 [==============================] - 14s 79ms/step - loss: 0.1926 - accuracy: 0.9203 - val_loss: 0.4373 - val_accuracy: 0.8357\n",
      "Epoch 13/30\n",
      "181/181 [==============================] - 14s 79ms/step - loss: 0.1737 - accuracy: 0.9329 - val_loss: 0.4420 - val_accuracy: 0.8383\n",
      "Epoch 14/30\n",
      "181/181 [==============================] - 15s 80ms/step - loss: 0.1680 - accuracy: 0.9319 - val_loss: 0.4300 - val_accuracy: 0.8388\n",
      "Epoch 15/30\n",
      "181/181 [==============================] - 14s 78ms/step - loss: 0.1445 - accuracy: 0.9399 - val_loss: 0.4623 - val_accuracy: 0.8451\n",
      "Epoch 16/30\n",
      "181/181 [==============================] - 14s 79ms/step - loss: 0.1327 - accuracy: 0.9518 - val_loss: 0.6203 - val_accuracy: 0.8126\n",
      "Epoch 17/30\n",
      "181/181 [==============================] - 15s 81ms/step - loss: 0.1302 - accuracy: 0.9494 - val_loss: 0.5556 - val_accuracy: 0.8226\n",
      "Epoch 18/30\n",
      "181/181 [==============================] - 15s 81ms/step - loss: 0.1239 - accuracy: 0.9517 - val_loss: 0.5281 - val_accuracy: 0.8409\n",
      "Epoch 19/30\n",
      "181/181 [==============================] - 15s 81ms/step - loss: 0.1194 - accuracy: 0.9546 - val_loss: 0.4876 - val_accuracy: 0.8441\n",
      "Epoch 20/30\n",
      "181/181 [==============================] - 14s 80ms/step - loss: 0.1022 - accuracy: 0.9595 - val_loss: 0.5812 - val_accuracy: 0.8383\n",
      "Epoch 21/30\n",
      "181/181 [==============================] - 14s 79ms/step - loss: 0.0983 - accuracy: 0.9622 - val_loss: 0.5321 - val_accuracy: 0.8457\n",
      "Epoch 22/30\n",
      "181/181 [==============================] - 14s 78ms/step - loss: 0.1023 - accuracy: 0.9650 - val_loss: 0.5733 - val_accuracy: 0.8362\n",
      "Epoch 23/30\n",
      "181/181 [==============================] - 14s 79ms/step - loss: 0.0891 - accuracy: 0.9640 - val_loss: 0.5752 - val_accuracy: 0.8383\n",
      "Epoch 24/30\n",
      "181/181 [==============================] - 15s 80ms/step - loss: 0.0870 - accuracy: 0.9660 - val_loss: 0.5540 - val_accuracy: 0.8362\n",
      "Epoch 25/30\n",
      "181/181 [==============================] - 15s 80ms/step - loss: 0.0791 - accuracy: 0.9707 - val_loss: 0.5695 - val_accuracy: 0.8451\n",
      "Epoch 26/30\n",
      "181/181 [==============================] - 14s 80ms/step - loss: 0.0682 - accuracy: 0.9742 - val_loss: 0.5733 - val_accuracy: 0.8478\n",
      "Epoch 27/30\n",
      "181/181 [==============================] - 14s 80ms/step - loss: 0.0749 - accuracy: 0.9730 - val_loss: 0.6683 - val_accuracy: 0.8430\n",
      "Epoch 28/30\n",
      "181/181 [==============================] - 14s 78ms/step - loss: 0.0698 - accuracy: 0.9764 - val_loss: 0.6479 - val_accuracy: 0.8451\n",
      "Epoch 29/30\n",
      "181/181 [==============================] - 15s 80ms/step - loss: 0.0662 - accuracy: 0.9740 - val_loss: 0.6687 - val_accuracy: 0.8520\n",
      "Epoch 30/30\n",
      "181/181 [==============================] - 15s 80ms/step - loss: 0.0685 - accuracy: 0.9724 - val_loss: 0.7076 - val_accuracy: 0.8357\n",
      "\n",
      "\n",
      "0.8\n",
      "Epoch 1/30\n",
      "181/181 [==============================] - 17s 84ms/step - loss: 0.5972 - accuracy: 0.7536 - val_loss: 0.4511 - val_accuracy: 0.7843\n",
      "Epoch 2/30\n",
      "181/181 [==============================] - 15s 80ms/step - loss: 0.4405 - accuracy: 0.8042 - val_loss: 0.4207 - val_accuracy: 0.8005\n",
      "Epoch 3/30\n",
      "181/181 [==============================] - 14s 80ms/step - loss: 0.4157 - accuracy: 0.8142 - val_loss: 0.4178 - val_accuracy: 0.8115\n",
      "Epoch 4/30\n",
      "181/181 [==============================] - 14s 79ms/step - loss: 0.4029 - accuracy: 0.8222 - val_loss: 0.4148 - val_accuracy: 0.8121\n",
      "Epoch 5/30\n",
      "181/181 [==============================] - 14s 79ms/step - loss: 0.3939 - accuracy: 0.8245 - val_loss: 0.4098 - val_accuracy: 0.8094\n",
      "Epoch 6/30\n",
      "181/181 [==============================] - 14s 80ms/step - loss: 0.3827 - accuracy: 0.8378 - val_loss: 0.3919 - val_accuracy: 0.8283\n",
      "Epoch 7/30\n",
      "181/181 [==============================] - 14s 79ms/step - loss: 0.3670 - accuracy: 0.8425 - val_loss: 0.3876 - val_accuracy: 0.8278\n",
      "Epoch 8/30\n",
      "181/181 [==============================] - 14s 79ms/step - loss: 0.3541 - accuracy: 0.8425 - val_loss: 0.3889 - val_accuracy: 0.8325\n",
      "Epoch 9/30\n",
      "181/181 [==============================] - 14s 80ms/step - loss: 0.3496 - accuracy: 0.8465 - val_loss: 0.3958 - val_accuracy: 0.8252\n",
      "Epoch 10/30\n",
      "181/181 [==============================] - 14s 79ms/step - loss: 0.3471 - accuracy: 0.8473 - val_loss: 0.3842 - val_accuracy: 0.8325\n",
      "Epoch 11/30\n",
      "181/181 [==============================] - 14s 80ms/step - loss: 0.3363 - accuracy: 0.8520 - val_loss: 0.3769 - val_accuracy: 0.8352\n",
      "Epoch 12/30\n",
      "181/181 [==============================] - 14s 80ms/step - loss: 0.3276 - accuracy: 0.8529 - val_loss: 0.3785 - val_accuracy: 0.8352\n",
      "Epoch 13/30\n",
      "181/181 [==============================] - 14s 78ms/step - loss: 0.3298 - accuracy: 0.8550 - val_loss: 0.3799 - val_accuracy: 0.8394\n",
      "Epoch 14/30\n",
      "181/181 [==============================] - 15s 80ms/step - loss: 0.3183 - accuracy: 0.8669 - val_loss: 0.3767 - val_accuracy: 0.8378\n",
      "Epoch 15/30\n",
      "181/181 [==============================] - 14s 80ms/step - loss: 0.3124 - accuracy: 0.8695 - val_loss: 0.3807 - val_accuracy: 0.8425\n",
      "Epoch 16/30\n",
      "181/181 [==============================] - 14s 79ms/step - loss: 0.3052 - accuracy: 0.8657 - val_loss: 0.3889 - val_accuracy: 0.8378\n",
      "Epoch 17/30\n",
      "181/181 [==============================] - 14s 79ms/step - loss: 0.2958 - accuracy: 0.8730 - val_loss: 0.3873 - val_accuracy: 0.8415\n",
      "Epoch 18/30\n",
      "181/181 [==============================] - 14s 80ms/step - loss: 0.2953 - accuracy: 0.8752 - val_loss: 0.3883 - val_accuracy: 0.8483\n",
      "Epoch 19/30\n",
      "181/181 [==============================] - 14s 80ms/step - loss: 0.2886 - accuracy: 0.8801 - val_loss: 0.3785 - val_accuracy: 0.8478\n",
      "Epoch 20/30\n",
      "181/181 [==============================] - 14s 79ms/step - loss: 0.2804 - accuracy: 0.8796 - val_loss: 0.3849 - val_accuracy: 0.8394\n",
      "Epoch 21/30\n",
      "181/181 [==============================] - 14s 79ms/step - loss: 0.2840 - accuracy: 0.8797 - val_loss: 0.3874 - val_accuracy: 0.8462\n",
      "Epoch 22/30\n",
      "181/181 [==============================] - 14s 80ms/step - loss: 0.2783 - accuracy: 0.8796 - val_loss: 0.3937 - val_accuracy: 0.8472\n",
      "Epoch 23/30\n",
      "181/181 [==============================] - 14s 80ms/step - loss: 0.2616 - accuracy: 0.8858 - val_loss: 0.3911 - val_accuracy: 0.8451\n",
      "Epoch 24/30\n",
      "181/181 [==============================] - 14s 80ms/step - loss: 0.2676 - accuracy: 0.8839 - val_loss: 0.3859 - val_accuracy: 0.8478\n",
      "Epoch 25/30\n",
      "181/181 [==============================] - 14s 79ms/step - loss: 0.2628 - accuracy: 0.8908 - val_loss: 0.3865 - val_accuracy: 0.8462\n",
      "Epoch 26/30\n",
      "181/181 [==============================] - 14s 79ms/step - loss: 0.2530 - accuracy: 0.8948 - val_loss: 0.4117 - val_accuracy: 0.8409\n",
      "Epoch 27/30\n",
      "181/181 [==============================] - 14s 79ms/step - loss: 0.2511 - accuracy: 0.8912 - val_loss: 0.4034 - val_accuracy: 0.8383\n",
      "Epoch 28/30\n",
      "181/181 [==============================] - 14s 79ms/step - loss: 0.2425 - accuracy: 0.8992 - val_loss: 0.4071 - val_accuracy: 0.8525\n",
      "Epoch 29/30\n",
      "181/181 [==============================] - 14s 78ms/step - loss: 0.2376 - accuracy: 0.8992 - val_loss: 0.3979 - val_accuracy: 0.8488\n",
      "Epoch 30/30\n",
      "181/181 [==============================] - 14s 79ms/step - loss: 0.2375 - accuracy: 0.9018 - val_loss: 0.4029 - val_accuracy: 0.8504\n",
      "\n",
      "\n"
     ]
    }
   ],
   "source": [
    "learning_rate = 0.001\n",
    "size = 1000\n",
    "\n",
    "scores = {}\n",
    "\n",
    "checkpoint = keras.callbacks.ModelCheckpoint(\n",
    "    'xception_v4_1_{epoch:02d}_{val_accuracy:.3f}.h5',\n",
    "    save_best_only=True,\n",
    "    monitor='val_accuracy',\n",
    "    mode='max'\n",
    ")\n",
    "\n",
    "for droprate in [0.0, 0.2, 0.5, 0.8]:\n",
    "    print(droprate)\n",
    "\n",
    "    model = make_model(\n",
    "        learning_rate=learning_rate,\n",
    "        size_inner=size,\n",
    "        droprate=droprate\n",
    "    )\n",
    "\n",
    "    history = model.fit(train_ds, epochs=30, validation_data=val_ds,\n",
    "                   callbacks=[checkpoint])\n",
    "    scores[droprate] = history.history\n",
    "\n",
    "    print()\n",
    "    print()"
   ]
  },
  {
   "cell_type": "markdown",
   "metadata": {},
   "source": [
    "The best model is: learning_rate = 0.001, size = 1000, droprate = 0.5"
   ]
  }
 ],
 "metadata": {
  "kernelspec": {
   "display_name": "saturn (Python 3)",
   "language": "python",
   "name": "python3"
  },
  "language_info": {
   "codemirror_mode": {
    "name": "ipython",
    "version": 3
   },
   "file_extension": ".py",
   "mimetype": "text/x-python",
   "name": "python",
   "nbconvert_exporter": "python",
   "pygments_lexer": "ipython3",
   "version": "3.9.15"
  }
 },
 "nbformat": 4,
 "nbformat_minor": 4
}
